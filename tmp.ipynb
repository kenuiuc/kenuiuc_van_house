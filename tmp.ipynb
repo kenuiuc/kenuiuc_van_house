{
 "cells": [
  {
   "cell_type": "code",
   "execution_count": 1,
   "id": "53cf9fd8-7aba-4dd4-8ccc-165fffb7f176",
   "metadata": {
    "tags": []
   },
   "outputs": [],
   "source": [
    "import pandas as pd"
   ]
  },
  {
   "cell_type": "code",
   "execution_count": 5,
   "id": "dede4945-3a6e-4730-9b19-6b5441a41486",
   "metadata": {
    "tags": []
   },
   "outputs": [],
   "source": [
    "data = pd.read_csv('data/van_house.csv')"
   ]
  },
  {
   "cell_type": "code",
   "execution_count": null,
   "id": "c6005d78-0e32-433b-9027-216eb9766c2b",
   "metadata": {},
   "outputs": [],
   "source": []
  }
 ],
 "metadata": {
  "kernelspec": {
   "display_name": "Python [conda env:532]",
   "language": "python",
   "name": "conda-env-532-py"
  },
  "language_info": {
   "codemirror_mode": {
    "name": "ipython",
    "version": 3
   },
   "file_extension": ".py",
   "mimetype": "text/x-python",
   "name": "python",
   "nbconvert_exporter": "python",
   "pygments_lexer": "ipython3",
   "version": "3.10.9"
  }
 },
 "nbformat": 4,
 "nbformat_minor": 5
}
